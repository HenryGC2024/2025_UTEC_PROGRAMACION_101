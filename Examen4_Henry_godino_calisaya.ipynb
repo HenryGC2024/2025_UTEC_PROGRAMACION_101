{
  "nbformat": 4,
  "nbformat_minor": 0,
  "metadata": {
    "colab": {
      "provenance": [],
      "authorship_tag": "ABX9TyNKBDMCJ1zS2N4GeDPqvQum",
      "include_colab_link": true
    },
    "kernelspec": {
      "name": "python3",
      "display_name": "Python 3"
    },
    "language_info": {
      "name": "python"
    }
  },
  "cells": [
    {
      "cell_type": "markdown",
      "metadata": {
        "id": "view-in-github",
        "colab_type": "text"
      },
      "source": [
        "<a href=\"https://colab.research.google.com/github/HenryGC2024/2025_UTEC_PROGRAMACION_101/blob/main/Examen4_Henry_godino_calisaya.ipynb\" target=\"_parent\"><img src=\"https://colab.research.google.com/assets/colab-badge.svg\" alt=\"Open In Colab\"/></a>"
      ]
    },
    {
      "cell_type": "markdown",
      "source": [
        "# **Examen 4 - Pandas**\n",
        "\n",
        "Duración: 60 minutos Instrucciones: Responde las siguientes preguntas y resuelve los problemas propuestos. Asegúrate de leer cuidadosamente cada pregunta y mostrar tus razonamientos y cálculos cuando sea necesario.\n",
        "\n",
        "Dataset principal: diabetes.csv (descargable de: https://www.kaggle.com/datasets/uciml/pima-indians-diabetes-database)"
      ],
      "metadata": {
        "id": "niQDWXlHpQsP"
      }
    },
    {
      "cell_type": "markdown",
      "source": [
        "**Nombre y Apellido**: HENRY GODIÑO CALISAYA"
      ],
      "metadata": {
        "id": "Hwf3RaLjpMAn"
      }
    },
    {
      "cell_type": "markdown",
      "source": [
        "**Pregunta 1:**\n",
        "1. Carga diabetes.csv en un DataFrame df_diabetes.\n",
        "2. Muestra las 5 primeras filas.\n",
        "3. Imprime el número total de filas, columnas y el tipo de cada columna.\n",
        "4. Convierte la columna Outcome a tipo categórico y verifica el cambio imprimiendo la información del DataFrame (df_diabetes.info())."
      ],
      "metadata": {
        "id": "CeHi6hbnqCa2"
      }
    },
    {
      "cell_type": "markdown",
      "source": [],
      "metadata": {
        "id": "yQOqgD8_nciP"
      }
    },
    {
      "cell_type": "code",
      "execution_count": 13,
      "metadata": {
        "id": "okZ-U9IQnWP8"
      },
      "outputs": [],
      "source": [
        "import pandas as pd\n",
        "\n",
        "# 1. Cargar base de datos diabetes.csv en un DataFrame df_diabetes\n",
        "df_diabetes = pd.read_csv('sample_data/diabetes.csv')\n",
        "\n"
      ]
    },
    {
      "cell_type": "code",
      "source": [
        "# 2. Mostrar las 5 primeras filas\n",
        "print(\"\\033[1m=== Primeras 5 filas del DataFrame ===\\033[0m\\n\")\n",
        "print(df_diabetes.head(5))\n"
      ],
      "metadata": {
        "colab": {
          "base_uri": "https://localhost:8080/",
          "height": 0
        },
        "id": "QLvGi04LujtF",
        "outputId": "9af5128c-1247-4b19-c2c9-f62084318923"
      },
      "execution_count": 14,
      "outputs": [
        {
          "output_type": "stream",
          "name": "stdout",
          "text": [
            "\u001b[1m=== Primeras 5 filas del DataFrame ===\u001b[0m\n",
            "\n",
            "   Pregnancies  Glucose  BloodPressure  SkinThickness  Insulin   BMI  \\\n",
            "0            6      148             72             35        0  33.6   \n",
            "1            1       85             66             29        0  26.6   \n",
            "2            8      183             64              0        0  23.3   \n",
            "3            1       89             66             23       94  28.1   \n",
            "4            0      137             40             35      168  43.1   \n",
            "\n",
            "   DiabetesPedigreeFunction  Age  Outcome  \n",
            "0                     0.627   50        1  \n",
            "1                     0.351   31        0  \n",
            "2                     0.672   32        1  \n",
            "3                     0.167   21        0  \n",
            "4                     2.288   33        1  \n"
          ]
        }
      ]
    },
    {
      "cell_type": "code",
      "source": [
        "# 3) Total de filas, columnas y el tipo de cada columna\n",
        "print(\"\\n\\033[1m=== Total de filas y columnas ===\\033[0m\\n\")\n",
        "print(f\"Filas: {df_diabetes.shape[0]}  |  Columnas: {df_diabetes.shape[1]}\")\n",
        "\n",
        "print(\"\\n\\033[1m=== Tipos de datos de cada columna ===\\033[0m\\n\")\n",
        "print(df_diabetes.dtypes)\n",
        "\n"
      ],
      "metadata": {
        "colab": {
          "base_uri": "https://localhost:8080/",
          "height": 0
        },
        "id": "RixCAPNzumBO",
        "outputId": "fd772c6f-2bb3-4f78-ba3a-0a35a858db4b"
      },
      "execution_count": 20,
      "outputs": [
        {
          "output_type": "stream",
          "name": "stdout",
          "text": [
            "\n",
            "\u001b[1m=== Total de filas y columnas ===\u001b[0m\n",
            "\n",
            "Filas: 768  |  Columnas: 9\n",
            "\n",
            "\u001b[1m=== Tipos de datos de cada columna ===\u001b[0m\n",
            "\n",
            "Pregnancies                   int64\n",
            "Glucose                       int64\n",
            "BloodPressure                 int64\n",
            "SkinThickness                 int64\n",
            "Insulin                       int64\n",
            "BMI                         float64\n",
            "DiabetesPedigreeFunction    float64\n",
            "Age                           int64\n",
            "Outcome                       int64\n",
            "dtype: object\n"
          ]
        }
      ]
    },
    {
      "cell_type": "code",
      "source": [
        "# 4) Convierte la columna 'Outcome' a tipo categórico y verifica el cambio imprimiendo la información del DataFrame (df_diabetes.info()).\n",
        "df_diabetes['Outcome'] = df_diabetes['Outcome'].astype('category')\n",
        "\n",
        "print(\"\\n\\033[1m=== Tipos de datos de cada columna después del cambio en 'Outcome' ===\\033[0m\\n\")\n",
        "print(df_diabetes.info())\n"
      ],
      "metadata": {
        "colab": {
          "base_uri": "https://localhost:8080/",
          "height": 0
        },
        "id": "oyIon8OVurxO",
        "outputId": "89523c3b-14d8-417b-dbdb-0ade2c2f967e"
      },
      "execution_count": 25,
      "outputs": [
        {
          "output_type": "stream",
          "name": "stdout",
          "text": [
            "\n",
            "\u001b[1m=== Tipos de datos de cada columna después del cambio en 'Outcome' ===\u001b[0m\n",
            "\n",
            "<class 'pandas.core.frame.DataFrame'>\n",
            "RangeIndex: 768 entries, 0 to 767\n",
            "Data columns (total 9 columns):\n",
            " #   Column                    Non-Null Count  Dtype   \n",
            "---  ------                    --------------  -----   \n",
            " 0   Pregnancies               768 non-null    int64   \n",
            " 1   Glucose                   768 non-null    int64   \n",
            " 2   BloodPressure             768 non-null    int64   \n",
            " 3   SkinThickness             768 non-null    int64   \n",
            " 4   Insulin                   768 non-null    int64   \n",
            " 5   BMI                       768 non-null    float64 \n",
            " 6   DiabetesPedigreeFunction  768 non-null    float64 \n",
            " 7   Age                       768 non-null    int64   \n",
            " 8   Outcome                   768 non-null    category\n",
            "dtypes: category(1), float64(2), int64(6)\n",
            "memory usage: 49.0 KB\n",
            "None\n"
          ]
        }
      ]
    },
    {
      "cell_type": "markdown",
      "source": [
        "______________________________________________________________________________"
      ],
      "metadata": {
        "id": "AFTR6zsH9zuX"
      }
    },
    {
      "cell_type": "markdown",
      "source": [
        "**Pregunta 2:**\n",
        "1. Crea un DataFrame df_filtrado con todas las filas de df_diabetes donde Glucose > 120.\n",
        "2. Agrega a df_filtrado una columna BMI_Category que clasifique el BMI así:\n",
        "\n",
        "  *   \"Bajo\" si BMI < 18.5\n",
        "  *   \"Normal\" si 18.5 ≤ BMI < 25\n",
        "  *   \"Sobrepeso\" si 25 ≤ BMI < 30\n",
        "  *   \"Obeso\" si BMI ≥ 30\n",
        "\n",
        "3. Muestra las primeras 5 filas de df_filtrado con la nueva columna incluida."
      ],
      "metadata": {
        "id": "LmG93PKjxgf9"
      }
    },
    {
      "cell_type": "code",
      "source": [
        "import pandas as pd\n",
        "\n",
        "\n",
        "# 1. Creando un DataFrame df_filtrado con todas las filas de df_diabetes donde Glucose > 120\n",
        "\n",
        "df_filtrado = df_diabetes[df_diabetes['Glucose'] > 120].copy()\n",
        "\n",
        "\n",
        "\n"
      ],
      "metadata": {
        "id": "GX5-3_F8xliO"
      },
      "execution_count": 29,
      "outputs": []
    },
    {
      "cell_type": "code",
      "source": [
        "# 2. Agregando a df_filtrado una columna BMI_Category que clasifique el BMI\n",
        "\n",
        "# Definimos los BMI\n",
        "bins   = [0, 18.5, 25, 30, float('inf')]\n",
        "labels = ['Bajo', 'Normal', 'Sobrepeso', 'Obeso']\n",
        "\n",
        "df_filtrado['BMI_Category'] = pd.cut(\n",
        "    df_filtrado['BMI'],\n",
        "    bins=bins,\n",
        "    labels=labels,\n",
        "    right=False   # corte izquierdo inclusivo, e.g. [18.5, 25)\n",
        ")\n",
        "\n",
        "print(\"\\n\\033[1m=== Listado con los BMI insertados ===\\033[0m\\n\")\n",
        "print(df_filtrado[['Glucose', 'BMI', 'BMI_Category']])"
      ],
      "metadata": {
        "colab": {
          "base_uri": "https://localhost:8080/",
          "height": 0
        },
        "id": "5X9HmSNh0tRC",
        "outputId": "afd282aa-0662-4be3-95a6-6c2939381487"
      },
      "execution_count": 34,
      "outputs": [
        {
          "output_type": "stream",
          "name": "stdout",
          "text": [
            "\n",
            "\u001b[1m=== Listado con los BMI insertados ===\u001b[0m\n",
            "\n",
            "     Glucose   BMI BMI_Category\n",
            "0        148  33.6        Obeso\n",
            "2        183  23.3       Normal\n",
            "4        137  43.1        Obeso\n",
            "8        197  30.5        Obeso\n",
            "9        125   0.0         Bajo\n",
            "..       ...   ...          ...\n",
            "759      190  35.5        Obeso\n",
            "761      170  44.0        Obeso\n",
            "764      122  36.8        Obeso\n",
            "765      121  26.2    Sobrepeso\n",
            "766      126  30.1        Obeso\n",
            "\n",
            "[349 rows x 3 columns]\n"
          ]
        }
      ]
    },
    {
      "cell_type": "code",
      "source": [
        "# 3) Mostrar las primeras 5 filas con la nueva columna\n",
        "\n",
        "print(\"\\n\\033[1m=== Listado de los 5 primeras filas con la nueva columna segun BMI ===\\033[0m\\n\")\n",
        "print(df_filtrado.head(5))"
      ],
      "metadata": {
        "colab": {
          "base_uri": "https://localhost:8080/",
          "height": 0
        },
        "id": "ew_P2qiu0qTj",
        "outputId": "de598dbb-3468-48c4-a8bd-b594d8788c6c"
      },
      "execution_count": 37,
      "outputs": [
        {
          "output_type": "stream",
          "name": "stdout",
          "text": [
            "\n",
            "\u001b[1m=== Listado de los 5 primeras filas con la nueva columna segun BMI ===\u001b[0m\n",
            "\n",
            "   Pregnancies  Glucose  BloodPressure  SkinThickness  Insulin   BMI  \\\n",
            "0            6      148             72             35        0  33.6   \n",
            "2            8      183             64              0        0  23.3   \n",
            "4            0      137             40             35      168  43.1   \n",
            "8            2      197             70             45      543  30.5   \n",
            "9            8      125             96              0        0   0.0   \n",
            "\n",
            "   DiabetesPedigreeFunction  Age Outcome BMI_Category  \n",
            "0                     0.627   50       1        Obeso  \n",
            "2                     0.672   32       1       Normal  \n",
            "4                     2.288   33       1        Obeso  \n",
            "8                     0.158   53       1        Obeso  \n",
            "9                     0.232   54       1         Bajo  \n"
          ]
        }
      ]
    },
    {
      "cell_type": "markdown",
      "source": [
        "_______________________________________________________________________________"
      ],
      "metadata": {
        "id": "Ua4mEoaB9vwg"
      }
    },
    {
      "cell_type": "markdown",
      "source": [
        "**Pregunta 3:**\n",
        "1. Carga age_groups.csv en un DataFrame df_age_groups.\n",
        "2. Haz un merge de df_diabetes con df_age_groups por la columna Age. El resultado se llamará df_combinado. Debe ser un left merge para mantener todas las filas de df_diabetes.\n",
        "3. Muestra las 5 primeras filas de df_combinado para verificar que la columna AgeGroup se haya agregado correctamente."
      ],
      "metadata": {
        "id": "Bqr6Y5Pq1U4C"
      }
    },
    {
      "cell_type": "code",
      "source": [
        "import pandas as pd\n",
        "\n",
        "# 1. Cargar age_groups.csv en un DataFrame df_age_groups\n",
        "df_age_groups = pd.read_csv('sample_data/age_groups.csv')\n",
        "\n",
        "\n"
      ],
      "metadata": {
        "id": "9vMGYGMo1aHp"
      },
      "execution_count": 48,
      "outputs": []
    },
    {
      "cell_type": "code",
      "source": [
        "# 2. Realizando un merge de df_diabetes con df_age_groups por la columna Age.\n",
        "#    La combinacion de llamara df_combinado\n",
        "df_combinado = df_diabetes.merge(\n",
        "    df_age_groups,\n",
        "    on='Age',\n",
        "    how='left'\n",
        ")\n",
        "\n",
        "print(df_combinado[['BMI', 'Age', 'AgeGroup']])"
      ],
      "metadata": {
        "colab": {
          "base_uri": "https://localhost:8080/",
          "height": 0
        },
        "id": "Ng6iDwYx2Lm5",
        "outputId": "d9458ebe-4263-4842-db73-0269e2ca6378"
      },
      "execution_count": 53,
      "outputs": [
        {
          "output_type": "stream",
          "name": "stdout",
          "text": [
            "      BMI  Age      AgeGroup\n",
            "0    33.6   50        Adulto\n",
            "1    26.6   31        Adulto\n",
            "2    23.3   32        Adulto\n",
            "3    28.1   21         Joven\n",
            "4    43.1   33        Adulto\n",
            "..    ...  ...           ...\n",
            "763  32.9   63  Adulto_Mayor\n",
            "764  36.8   27         Joven\n",
            "765  26.2   30         Joven\n",
            "766  30.1   47        Adulto\n",
            "767  30.4   23         Joven\n",
            "\n",
            "[768 rows x 3 columns]\n"
          ]
        }
      ]
    },
    {
      "cell_type": "code",
      "source": [
        "# 3) Mostrar las 5 primeras filas para verificar que 'AgeGroup' se agregó\n",
        "\n",
        "print(\"\\n\\033[1m=== Listado de los 5 primeras filas de la nueva combinacion ===\\033[0m\\n\")\n",
        "print(df_combinado.head(5))\n"
      ],
      "metadata": {
        "colab": {
          "base_uri": "https://localhost:8080/",
          "height": 0
        },
        "id": "uokSs0E-2NxS",
        "outputId": "ad144ce6-2df8-4f6e-bd61-f2e1c24783b6"
      },
      "execution_count": 54,
      "outputs": [
        {
          "output_type": "stream",
          "name": "stdout",
          "text": [
            "\n",
            "\u001b[1m=== Listado de los 5 primeras filas de la nueva combinacion ===\u001b[0m\n",
            "\n",
            "   Pregnancies  Glucose  BloodPressure  SkinThickness  Insulin   BMI  \\\n",
            "0            6      148             72             35        0  33.6   \n",
            "1            1       85             66             29        0  26.6   \n",
            "2            8      183             64              0        0  23.3   \n",
            "3            1       89             66             23       94  28.1   \n",
            "4            0      137             40             35      168  43.1   \n",
            "\n",
            "   DiabetesPedigreeFunction  Age Outcome AgeGroup  \n",
            "0                     0.627   50       1   Adulto  \n",
            "1                     0.351   31       0   Adulto  \n",
            "2                     0.672   32       1   Adulto  \n",
            "3                     0.167   21       0    Joven  \n",
            "4                     2.288   33       1   Adulto  \n"
          ]
        }
      ]
    },
    {
      "cell_type": "markdown",
      "source": [
        "\n",
        "___________________________________________________________________________"
      ],
      "metadata": {
        "id": "0Sz8Q-c09mPd"
      }
    },
    {
      "cell_type": "markdown",
      "source": [
        "**Pregunta 4:**\n",
        "1. Agrupa df_combinado por AgeGroup.\n",
        "2. Calcula el promedio de Glucose y el promedio de BMI para cada grupo de edad.\n",
        "3. Ordena el resultado por el promedio de Glucose de mayor a menor.\n",
        "4. Muestra el DataFrame resultante."
      ],
      "metadata": {
        "id": "RPWJrdW_6Vxb"
      }
    },
    {
      "cell_type": "code",
      "source": [
        "import pandas as pd\n",
        "\n",
        "# 1. Agrupar df_combinado por AgeGroup.\n",
        "# 2. Calculando el promedio de Glucose y el promedio de BMI para cada grupo de edad.\n",
        "\n",
        "df_grouped = (\n",
        "    df_combinado\n",
        "    .groupby('AgeGroup')\n",
        "    .agg(\n",
        "        Glucose=('Glucose', 'mean'),\n",
        "        BMI    =('BMI',     'mean')\n",
        "    )\n",
        "    .reset_index()\n",
        ")\n",
        "\n"
      ],
      "metadata": {
        "id": "6Yf6AqXh52fx"
      },
      "execution_count": 65,
      "outputs": []
    },
    {
      "cell_type": "code",
      "source": [
        "# 2. Ordenando el resultado por el promedio de Glucose de mayor a menor.\n",
        "df_grouped = df_grouped.sort_values('Glucose', ascending=False)\n",
        "\n"
      ],
      "metadata": {
        "id": "-WoJAWc-6ypP"
      },
      "execution_count": 62,
      "outputs": []
    },
    {
      "cell_type": "code",
      "source": [
        "# 3. Mostrar el DataFrame resultante\n",
        "\n",
        "print(\"\\n\\033[1m=== DataFrame resultante ===\\033[0m\\n\")\n",
        "print(df_grouped)\n",
        "\n"
      ],
      "metadata": {
        "colab": {
          "base_uri": "https://localhost:8080/",
          "height": 0
        },
        "id": "XoRtmHa36zwP",
        "outputId": "cf7ab13a-7b42-47e2-ac72-20336817bde3"
      },
      "execution_count": 67,
      "outputs": [
        {
          "output_type": "stream",
          "name": "stdout",
          "text": [
            "\n",
            "\u001b[1m=== DataFrame resultante ===\u001b[0m\n",
            "\n",
            "       AgeGroup     Glucose        BMI\n",
            "0        Adulto  125.637037  33.562593\n",
            "1  Adulto_Mayor  139.679012  30.211111\n",
            "2         Joven  114.175060  31.322062\n"
          ]
        }
      ]
    },
    {
      "cell_type": "markdown",
      "source": [
        "\n",
        "________________________________________________________________________________"
      ],
      "metadata": {
        "id": "HT7PH9eV9cW1"
      }
    },
    {
      "cell_type": "markdown",
      "source": [
        "**Pregunta 5:**\n",
        "1. A partir de df_combinado, filtra las filas donde AgeGroup = \"Adulto\" y Outcome = 1 (casos positivos de diabetes en adultos).\n",
        "2. De este subconjunto, selecciona los 5 registros con el mayor valor de BMI.\n",
        "3. Muestra únicamente las columnas Age, Glucose, BMI, DiabetesPedigreeFunction, ordenadas por BMI de mayor a menor."
      ],
      "metadata": {
        "id": "ZA9bxeEO9L6l"
      }
    },
    {
      "cell_type": "code",
      "source": [
        "import pandas as pd\n",
        "\n",
        "# 1. Filtra las filas donde AgeGroup = \"Adulto\" y Outcome = 1, apartir de df_combinado\n",
        "df_adultos_pos = df_combinado[\n",
        "    (df_combinado['AgeGroup'] == 'Adulto') &\n",
        "    (df_combinado['Outcome']  == 1)\n",
        "]\n",
        "\n"
      ],
      "metadata": {
        "id": "BOfLHFvb9IfP"
      },
      "execution_count": 68,
      "outputs": []
    },
    {
      "cell_type": "code",
      "source": [
        "# 2. Ordenar por BMI de mayor a menor y solo seleccionar los 5 primeros\n",
        "top5_BMI = (\n",
        "    df_adultos_pos\n",
        "    .sort_values('BMI', ascending=False)\n",
        "    .head(5)\n",
        ")\n",
        "\n",
        "\n"
      ],
      "metadata": {
        "id": "DJREoct4-Soe"
      },
      "execution_count": 71,
      "outputs": []
    },
    {
      "cell_type": "code",
      "source": [
        "# 3) Seleccionar únicamente las columnas requeridas\n",
        "resultado = top5_BMI[['Age', 'Glucose', 'BMI', 'DiabetesPedigreeFunction']]\n",
        "\n",
        "print(\"\\n\\033[1m=== Top 5 adultos con diabetes y mayor BMI ===\\033[0m\\n\")\n",
        "print(resultado)"
      ],
      "metadata": {
        "colab": {
          "base_uri": "https://localhost:8080/",
          "height": 0
        },
        "id": "ziYeZCWQ-UIF",
        "outputId": "11ec335e-a38e-4fb5-a34f-0fc4ebfc063b"
      },
      "execution_count": 73,
      "outputs": [
        {
          "output_type": "stream",
          "name": "stdout",
          "text": [
            "\n",
            "\u001b[1m=== Top 5 adultos con diabetes y mayor BMI ===\u001b[0m\n",
            "\n",
            "     Age  Glucose   BMI  DiabetesPedigreeFunction\n",
            "193   40      135  52.3                     0.578\n",
            "155   36      152  50.0                     0.337\n",
            "99    31      122  49.7                     0.325\n",
            "84    37      137  48.8                     0.227\n",
            "378   32      156  48.3                     0.238\n"
          ]
        }
      ]
    },
    {
      "cell_type": "markdown",
      "source": [
        "________________________________________________________________________________"
      ],
      "metadata": {
        "id": "YykWhlqI-8ZF"
      }
    },
    {
      "cell_type": "markdown",
      "source": [
        "**Pregunta 6:**\n",
        "1. Usando df_combinado, crea una tabla pivote que tenga:\n",
        "  * Índice: AgeGroup\n",
        "  * Columnas: Outcome\n",
        "  * Valores: promedio de Glucose y BMI\n",
        "2. La pivot table debe mostrar el promedio de Glucose y BMI por combinación de AgeGroup y Outcome.\n",
        "3. De la tabla resultante, filtra y muestra únicamente las filas (AgeGroups) donde el promedio de BMI para cualquiera de los valores de Outcome sea mayor a 30."
      ],
      "metadata": {
        "id": "EJxflGua--5m"
      }
    },
    {
      "cell_type": "code",
      "source": [
        "import pandas as pd\n",
        "\n",
        "# 1. Crear la tabla pivot que contenga AgeGroup, Outcome, prom Glucose y BMI\n",
        "df_pivot = df_combinado.pivot_table(\n",
        "    index='AgeGroup',\n",
        "    columns='Outcome',\n",
        "    values=['Glucose', 'BMI'],\n",
        "    aggfunc='mean',\n",
        "    observed=False\n",
        ")\n",
        "\n"
      ],
      "metadata": {
        "id": "S_tZooNk_3dc"
      },
      "execution_count": 79,
      "outputs": []
    },
    {
      "cell_type": "code",
      "source": [
        "# 2. Mostrar el promedio de Glucose y BMI por combinación de AgeGroup y Outcome\n",
        "\n",
        "print(\"\\n\\033[1m=== Pivot table (promedios de Glucose y BMI por AgeGroup y Outcome) ===\\033[0m\\n\")\n",
        "print(df_pivot)\n",
        "\n",
        "\n",
        "\n",
        "\n"
      ],
      "metadata": {
        "colab": {
          "base_uri": "https://localhost:8080/",
          "height": 0
        },
        "id": "XcYcZw4Y_69u",
        "outputId": "e31d4663-060f-499d-d3e2-8cd9013c3624"
      },
      "execution_count": 89,
      "outputs": [
        {
          "output_type": "stream",
          "name": "stdout",
          "text": [
            "\n",
            "\u001b[1m=== Pivot table (promedios de Glucose y BMI por AgeGroup y Outcome) ===\u001b[0m\n",
            "\n",
            "                    BMI                Glucose            \n",
            "Outcome               0          1           0           1\n",
            "AgeGroup                                                  \n",
            "Adulto        31.923077  35.085000  111.830769  138.457143\n",
            "Adulto_Mayor  28.413953  32.244737  127.209302  153.789474\n",
            "Joven         29.909174  36.455556  106.978593  140.322222\n"
          ]
        }
      ]
    },
    {
      "cell_type": "code",
      "source": [
        "# 3. Filtrar solo los AgeGroups donde el promedio de BMI para cualquier Outcome > 30\n",
        "#    df_pivot['BMI'] es un DataFrame con columnas 0 y 1 (Outcome)\n",
        "mask = (df_pivot['BMI'] > 30).any(axis=1)\n",
        "df_pivot_filtrado = df_pivot[mask]\n",
        "\n",
        "\n",
        "print(\"\\n\\033[1m=== AgeGroups con BMI promedio > 30 en algún Outcome ===\\033[0m\\n\")\n",
        "print(df_pivot_filtrado)"
      ],
      "metadata": {
        "colab": {
          "base_uri": "https://localhost:8080/",
          "height": 0
        },
        "id": "KMr4i3hb_9RX",
        "outputId": "7cd4b0b2-fdc6-49f2-d767-88700b5de271"
      },
      "execution_count": 98,
      "outputs": [
        {
          "output_type": "stream",
          "name": "stdout",
          "text": [
            "\n",
            "\u001b[1m=== AgeGroups con BMI promedio > 30 en algún Outcome ===\u001b[0m\n",
            "\n",
            "                    BMI                Glucose            \n",
            "Outcome               0          1           0           1\n",
            "AgeGroup                                                  \n",
            "Adulto        31.923077  35.085000  111.830769  138.457143\n",
            "Adulto_Mayor  28.413953  32.244737  127.209302  153.789474\n",
            "Joven         29.909174  36.455556  106.978593  140.322222\n"
          ]
        }
      ]
    },
    {
      "cell_type": "code",
      "source": [
        "\n",
        "# Comprobando los casos de la 3ra pregunta con los 2 Outcome o solo uno de ellos\n",
        "# Extrae solo el sub-DataFrame de promedios de BMI\n",
        "bmi_means = df_pivot['BMI']\n",
        "\n",
        "# Crea la máscara: True si en Outcome 0 o 1 el BMI promedio > 30\n",
        "mask = (bmi_means > 30).any(axis=1)\n",
        "\n",
        "# Muestra la máscara para cada AgeGroup\n",
        "\n",
        "print(\"\\n\\033[1m=== Muestra la mascara para cada AgeGroup ===\\033[0m\\n\")\n",
        "print(mask)\n"
      ],
      "metadata": {
        "colab": {
          "base_uri": "https://localhost:8080/",
          "height": 0
        },
        "id": "kA78pj4wDy8C",
        "outputId": "36befda3-ae0f-42d9-ca57-446588e25207"
      },
      "execution_count": 92,
      "outputs": [
        {
          "output_type": "stream",
          "name": "stdout",
          "text": [
            "\n",
            "\u001b[1m=== Muestra la mascara para cada AgeGroup ===\u001b[0m\n",
            "\n",
            "AgeGroup\n",
            "Adulto          True\n",
            "Adulto_Mayor    True\n",
            "Joven           True\n",
            "dtype: bool\n"
          ]
        }
      ]
    },
    {
      "cell_type": "code",
      "source": [
        "mask_all = (bmi_means > 30).all(axis=1)\n",
        "df_pivot_filtrado_strict = df_pivot.loc[mask_all]\n",
        "\n",
        "print(\"\\n\\033[1m=== Filtro Estricto ===\\033[0m\\n\")\n",
        "print(df_pivot_filtrado_strict)\n"
      ],
      "metadata": {
        "colab": {
          "base_uri": "https://localhost:8080/",
          "height": 0
        },
        "id": "vXH1_BlFD1wq",
        "outputId": "fb3d5ff0-72df-480b-ddf5-10dca618cee4"
      },
      "execution_count": 93,
      "outputs": [
        {
          "output_type": "stream",
          "name": "stdout",
          "text": [
            "\n",
            "\u001b[1m=== Filtro Estricto ===\u001b[0m\n",
            "\n",
            "                BMI             Glucose            \n",
            "Outcome           0       1           0           1\n",
            "AgeGroup                                           \n",
            "Adulto    31.923077  35.085  111.830769  138.457143\n"
          ]
        }
      ]
    },
    {
      "cell_type": "code",
      "source": [
        "# Promedio de BMI a lo largo de los dos Outcomes\n",
        "bmi_avg = bmi_means.mean(axis=1)\n",
        "\n",
        "# Filtramos donde ese promedio excede 30\n",
        "df_pivot_by_avg = df_pivot.loc[bmi_avg > 30]\n",
        "\n",
        "print(\"\\n\\033[1m=== Filtro considerando los 2 Outcomes ===\\033[0m\\n\")\n",
        "print(df_pivot_by_avg)\n"
      ],
      "metadata": {
        "colab": {
          "base_uri": "https://localhost:8080/",
          "height": 0
        },
        "id": "glgkja67D5Hq",
        "outputId": "451ed811-8168-4966-9701-34d13c3dff0e"
      },
      "execution_count": 94,
      "outputs": [
        {
          "output_type": "stream",
          "name": "stdout",
          "text": [
            "\n",
            "\u001b[1m=== Filtro considerando los 2 Outcomes ===\u001b[0m\n",
            "\n",
            "                    BMI                Glucose            \n",
            "Outcome               0          1           0           1\n",
            "AgeGroup                                                  \n",
            "Adulto        31.923077  35.085000  111.830769  138.457143\n",
            "Adulto_Mayor  28.413953  32.244737  127.209302  153.789474\n",
            "Joven         29.909174  36.455556  106.978593  140.322222\n"
          ]
        }
      ]
    },
    {
      "cell_type": "code",
      "source": [
        "# Asumiendo: df_pivot ya existe y tiene dos niveles de columna: ('Glucose',0),(Glucose,1),('BMI',0),('BMI',1)\n",
        "\n",
        "# Extraemos sólo el sub-DataFrame de promedios de BMI\n",
        "bmi_means = df_pivot['BMI']\n",
        "# bmi_means es un DataFrame con columnas [0,1] (Outcome)\n",
        "\n",
        "# Creamos la máscara: True si en Outcome 0 o 1 el promedio supera 30\n",
        "mask = (bmi_means > 30).any(axis=1)\n",
        "\n",
        "# Aplicamos la máscara al DataFrame completo df_pivot\n",
        "df_pivot_filtrado = df_pivot.loc[mask]\n",
        "\n",
        "# Mostramos el resultado\n",
        "\n",
        "print(\"\\n\\033[1m=== AgeGroups con BMI promedio > 30 en al menos un Outcome ===\\033[0m\\n\")\n",
        "print(df_pivot_filtrado)"
      ],
      "metadata": {
        "colab": {
          "base_uri": "https://localhost:8080/",
          "height": 0
        },
        "id": "rZenvkJ2EPvs",
        "outputId": "f1af8d08-18bb-42e8-fb1c-c2c1b789d2b0"
      },
      "execution_count": 97,
      "outputs": [
        {
          "output_type": "stream",
          "name": "stdout",
          "text": [
            "\n",
            "\u001b[1m=== AgeGroups con BMI promedio > 30 en al menos un Outcome ===\u001b[0m\n",
            "\n",
            "                    BMI                Glucose            \n",
            "Outcome               0          1           0           1\n",
            "AgeGroup                                                  \n",
            "Adulto        31.923077  35.085000  111.830769  138.457143\n",
            "Adulto_Mayor  28.413953  32.244737  127.209302  153.789474\n",
            "Joven         29.909174  36.455556  106.978593  140.322222\n"
          ]
        }
      ]
    }
  ]
}