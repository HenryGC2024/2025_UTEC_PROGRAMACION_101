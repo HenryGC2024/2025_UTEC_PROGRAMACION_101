{
  "nbformat": 4,
  "nbformat_minor": 0,
  "metadata": {
    "colab": {
      "provenance": [],
      "include_colab_link": true
    },
    "kernelspec": {
      "name": "python3",
      "display_name": "Python 3"
    },
    "language_info": {
      "name": "python"
    }
  },
  "cells": [
    {
      "cell_type": "markdown",
      "metadata": {
        "id": "view-in-github",
        "colab_type": "text"
      },
      "source": [
        "<a href=\"https://colab.research.google.com/github/HenryGC2024/2025_UTEC_PROGRAMACION_101/blob/main/-henry_godino_var_y_exp.ipynb\" target=\"_parent\"><img src=\"https://colab.research.google.com/assets/colab-badge.svg\" alt=\"Open In Colab\"/></a>"
      ]
    },
    {
      "cell_type": "markdown",
      "source": [
        "<img src=\"https://posgrado.utec.edu.pe/sites/default/files/2023-08/Testimonial-home-2.jpg\" alt=\"HTML5 Icon\" width=\"900\" height=\"250\" >\n"
      ],
      "metadata": {
        "id": "cqadFmlrgAXp"
      }
    },
    {
      "cell_type": "markdown",
      "source": [
        "# **Ejercicios - Variables y Expresiones**"
      ],
      "metadata": {
        "id": "tW1-ULBmb0Cm"
      }
    },
    {
      "cell_type": "markdown",
      "source": [
        "**Ejercicio 1: Calculadora de ahorro semanal**\n",
        "\n",
        "Pide al usuario cuánto dinero ahorra cada día de lunes a domingo. Al final, muestra cuánto ahorró en total esa semana y cuánto tendría en un mes si repite el mismo patrón cada semana.\n",
        "\n",
        "- Pista: Usar 7 variables (ahorro_lunes, ahorro_martes, …), input(), float(), +, *."
      ],
      "metadata": {
        "id": "9igzfvIKqNGr"
      }
    },
    {
      "cell_type": "code",
      "source": [
        "## INICIO DE CÓDIGO\n",
        "## Calculadora de ahorro semanal\n",
        "\n",
        "# Titulo y espacios\n",
        "print('\\033[1m Calculadora de ahorro semanal\\033[0m')\n",
        "print('\\033[1m ==============================\\033[0m\\n')\n",
        "\n",
        "# Input de datos, numerico float\n",
        "ahorro_lunes = float(input('Cuanto dinero en soles ahorro el dia lunes: '))\n",
        "ahorro_martes = float(input('Cuanto dinero en soles ahorro el dia martes: '))\n",
        "ahorro_miercoles = float(input('Cuanto dinero en soles ahorro el dia miercoles: '))\n",
        "ahorro_jueves = float(input('Cuanto dinero en soles ahorro el dia jueves: '))\n",
        "ahorro_viernes = float(input('Cuanto dinero en soles ahorro el dia viernes: '))\n",
        "ahorro_sabado = float(input('Cuanto dinero en soles ahorro el dia sabado: '))\n",
        "ahorro_domingo = float(input('Cuanto dinero en soles ahorro el dia domingo: '))\n",
        "\n",
        "# Suma de los ahorros de toda la semana\n",
        "ahorro_semana = ahorro_lunes + ahorro_martes + ahorro_miercoles + ahorro_jueves + ahorro_viernes + ahorro_sabado + ahorro_sabado\n",
        "\n",
        "# Division de un mes de 30 dias entre 7 dias de la semana\n",
        "semanas_mes = 30 / 7\n",
        "\n",
        "# Multiplicacion de la suma de loa ahorros de la semana con las semanas que tiene un mes\n",
        "ahorro_mes = ahorro_semana * semanas_mes\n",
        "\n",
        "#Impresion de resultados\n",
        "print('\\n\\033[1m ---------------------------------\\033[0m\\n')\n",
        "print(f\"Ahorro {ahorro_semana} soles en la semana \\nTendria {ahorro_mes} soles al mes si sigue ahorrando asi!\")\n",
        "\n",
        "## FIN DE CÓDIGO"
      ],
      "metadata": {
        "id": "BX-O1-4wqWF9",
        "colab": {
          "base_uri": "https://localhost:8080/"
        },
        "outputId": "a542fd0a-5468-420a-aa22-eacd4235fcb5"
      },
      "execution_count": 58,
      "outputs": [
        {
          "output_type": "stream",
          "name": "stdout",
          "text": [
            "\u001b[1m Calculadora de ahorro semanal\u001b[0m\n",
            "\u001b[1m ==============================\u001b[0m\n",
            "\n",
            "Cuanto dinero en soles ahorro el dia lunes: 15\n",
            "Cuanto dinero en soles ahorro el dia martes: 16\n",
            "Cuanto dinero en soles ahorro el dia miercoles: 14\n",
            "Cuanto dinero en soles ahorro el dia jueves: 80\n",
            "Cuanto dinero en soles ahorro el dia viernes: 90\n",
            "Cuanto dinero en soles ahorro el dia sabado: 52\n",
            "Cuanto dinero en soles ahorro el dia domingo: 36\n",
            "\u001b[1m ---------------------------------\u001b[0m\n",
            "\n",
            "Ahorro 319.0 soles en la semana \n",
            "Tendria 1367.142857142857 soles al mes si sigue ahorrando asi!\n"
          ]
        }
      ]
    },
    {
      "cell_type": "code",
      "source": [
        "30/7"
      ],
      "metadata": {
        "colab": {
          "base_uri": "https://localhost:8080/"
        },
        "id": "JBVShqlPzJGs",
        "outputId": "8f1afbaa-d23d-44b9-cfda-ee0dcc140770"
      },
      "execution_count": 1,
      "outputs": [
        {
          "output_type": "execute_result",
          "data": {
            "text/plain": [
              "4.285714285714286"
            ]
          },
          "metadata": {},
          "execution_count": 1
        }
      ]
    },
    {
      "cell_type": "markdown",
      "source": [
        "**Ejercicio 2: Conversor de segundos**\n",
        "\n",
        "Solicita una cantidad total de segundos y muestra cuántos minutos y segundos representa.\n",
        "\n",
        "Ejemplo: 130 segundos → 2 minutos y 10 segundos\n",
        "* Pista: Usar // y %\n"
      ],
      "metadata": {
        "id": "oLaw6UggqV3E"
      }
    },
    {
      "cell_type": "code",
      "source": [
        "## INICIO DE CÓDIGO\n",
        "## Conversor de segundos\n",
        "\n",
        "# Titulo y espacios\n",
        "print('\\033[1m Conversor de segundos\\033[0m')\n",
        "print('\\033[1m ==============================\\033[0m\\n')\n",
        "\n",
        "# Input de datos, numerico integer\n",
        "segundos_input = int(input('Ingrese cantidad total de segundos: '))\n",
        "\n",
        "#Calculo de minutos en funcion al input en segundos\n",
        "minutos_out = segundos_input // 60\n",
        "\n",
        "#Calculo de la traza de segundos (residual)\n",
        "segundos_out = segundos_input % 60\n",
        "\n",
        "#Impresion de resultados\n",
        "print('\\n\\033[1m ---------------------------------\\033[0m\\n')\n",
        "print(f\"{segundos_input} segundos representa {minutos_out} minutos y {segundos_out} segundos\")\n",
        "\n",
        "\n",
        "## FIN DE CÓDIGO"
      ],
      "metadata": {
        "id": "bAuxBROrqaWb",
        "colab": {
          "base_uri": "https://localhost:8080/"
        },
        "outputId": "59480714-4d2a-4b7e-a071-5779e6f644fe"
      },
      "execution_count": 60,
      "outputs": [
        {
          "output_type": "stream",
          "name": "stdout",
          "text": [
            "\u001b[1m Conversor de segundos\u001b[0m\n",
            "\u001b[1m ==============================\u001b[0m\n",
            "\n",
            "Ingrese cantidad total de segundos: 950\n",
            "\n",
            "\u001b[1m ---------------------------------\u001b[0m\n",
            "\n",
            "950 segundos representa 15 minutos y 50 segundos\n"
          ]
        }
      ]
    },
    {
      "cell_type": "code",
      "source": [
        "130//60\n"
      ],
      "metadata": {
        "colab": {
          "base_uri": "https://localhost:8080/"
        },
        "id": "E7iMlpCa2GGM",
        "outputId": "a354ee2d-0dde-4344-baf5-c931d3ab306f"
      },
      "execution_count": 8,
      "outputs": [
        {
          "output_type": "execute_result",
          "data": {
            "text/plain": [
              "2"
            ]
          },
          "metadata": {},
          "execution_count": 8
        }
      ]
    },
    {
      "cell_type": "code",
      "source": [
        "120%60"
      ],
      "metadata": {
        "colab": {
          "base_uri": "https://localhost:8080/"
        },
        "id": "NwZ_idGF2Qg8",
        "outputId": "9436af55-62f9-4f04-b363-f2c2420d7462"
      },
      "execution_count": 10,
      "outputs": [
        {
          "output_type": "execute_result",
          "data": {
            "text/plain": [
              "0"
            ]
          },
          "metadata": {},
          "execution_count": 10
        }
      ]
    },
    {
      "cell_type": "markdown",
      "source": [
        "**Ejercicio 3: Puntuación de juego**\n",
        "\n",
        "Un videojuego otorga:\n",
        "\n",
        "* 10 puntos por cada estrella recolectada,\n",
        "* 50 puntos por cada gema recolectada, y\n",
        "* 1 punto por cada segundo que el jugador se mantuvo vivo.\n",
        "\n",
        "Pide al usuario las tres cantidades y muestra su puntaje total.\n",
        "\n",
        "* Pista: total = estrellas*10 + gemas*50 + tiempo"
      ],
      "metadata": {
        "id": "dK4EIGoKrW2B"
      }
    },
    {
      "cell_type": "code",
      "source": [
        "## INICIO DE CÓDIGO\n",
        "## Puntuación de juego\n",
        "\n",
        "# Titulo y espacios\n",
        "print('\\033[1m Puntuacion de Juego\\033[0m')\n",
        "print('\\033[1m ==============================\\033[0m\\n')\n",
        "\n",
        "# Input de datos, numérico integer\n",
        "estrellas = int(input('Cuantas estrellas recolecto: '))\n",
        "gemas = int(input('Cuantas gemas recolecto: '))\n",
        "tiempo = int(input('Cuanto tiempo en segundos se mantuvo vivo en el juego: '))\n",
        "\n",
        "# Cálculo de puntos segun parámetros\n",
        "puntos = estrellas * 10 + gemas * 50 + tiempo * 1\n",
        "\n",
        "# Impresión de resultados\n",
        "print('\\n\\033[1m ---------------------------------\\033[0m\\n')\n",
        "print(f\"Uds tiene {puntos} puntos en total\")\n",
        "\n",
        "## FIN DE CÓDIGO"
      ],
      "metadata": {
        "id": "jkBQHQF1rlUY",
        "colab": {
          "base_uri": "https://localhost:8080/"
        },
        "outputId": "132bf6aa-557d-42f9-e101-c7c025294405"
      },
      "execution_count": 62,
      "outputs": [
        {
          "output_type": "stream",
          "name": "stdout",
          "text": [
            "\u001b[1m Puntuacion de Juego\u001b[0m\n",
            "\u001b[1m ==============================\u001b[0m\n",
            "\n",
            "Cuantas estrellas recolecto: 150\n",
            "Cuantas gemas recolecto: 50\n",
            "Cuanto tiempo en segundos se mantuvo vivo en el juego: 250\n",
            "\n",
            "\u001b[1m ---------------------------------\u001b[0m\n",
            "\n",
            "Uds tiene 4250 puntos en total\n"
          ]
        }
      ]
    },
    {
      "cell_type": "markdown",
      "source": [
        "**Ejercicio 4: Conversor de monedas con tasa personalizada**\n",
        "\n",
        "Solicita al usuario:\n",
        "\n",
        "* El monto en soles\n",
        "* La tasa de cambio a dólares\n",
        "\n",
        "Muestra el equivalente en dólares, redondeado a 2 decimales.\n",
        "\n",
        "* Pista: Usar float(), *, round(valor, 2)"
      ],
      "metadata": {
        "id": "wW9Edl_8rlt1"
      }
    },
    {
      "cell_type": "code",
      "source": [
        "## INICIO DE CÓDIGO\n",
        "## Conversor de monedas con tasa personalizada\n",
        "\n",
        "# Titulo y espacios\n",
        "print('\\033[1m Conversor de monedas con tasa personalizada\\033[0m')\n",
        "print('\\033[1m ============================================\\033[0m\\n')\n",
        "\n",
        "# Input de datos, numérico float\n",
        "valor_soles = float(input('Ingrese el monto en soles: '))\n",
        "cambio_dolares = float(input('Ingrese el tipo de cambio - compra dolares: '))\n",
        "\n",
        "# Cálculo de tipo de cambio de moneda, compra de dolares\n",
        "valor_dolares = round(valor_soles * (1 / cambio_dolares),2)\n",
        "\n",
        "# Impresión de resultados\n",
        "print('\\n\\033[1m ---------------------------------\\033[0m\\n')\n",
        "print(f\"{valor_soles} soles equivale a {valor_dolares} dolares\")\n",
        "\n",
        "## FIN DE CÓDIGO"
      ],
      "metadata": {
        "id": "fTCsCohHrmQW",
        "colab": {
          "base_uri": "https://localhost:8080/"
        },
        "outputId": "d1fe1f3e-2f44-42f6-f224-6a03135a91a4"
      },
      "execution_count": 16,
      "outputs": [
        {
          "output_type": "stream",
          "name": "stdout",
          "text": [
            "Ingrese el monto en soles: 2500\n",
            "Ingrese el tipo de cambio - compra dolares: 3.7586\n",
            "2500.0 soles equivale a 665.14 dolares\n"
          ]
        }
      ]
    },
    {
      "cell_type": "markdown",
      "source": [
        "**Ejercicio 5: Costo compartido de viaje**\n",
        "\n",
        "Tres amigos hacen un viaje y pagan distintos montos:\n",
        "\n",
        "* Ana pagó gasolina,\n",
        "* Luis pagó peajes,\n",
        "* Carla pagó comida.\n",
        "\n",
        "Pide los tres montos, calcula el total y cuánto debería aportar cada uno para que paguen igual.\n",
        "\n",
        "* Pista: Calcular el total y luego dividirlo entre 3"
      ],
      "metadata": {
        "id": "JYUyJAidrmnT"
      }
    },
    {
      "cell_type": "code",
      "source": [
        "## INICIO DE CÓDIGO\n",
        "## Costo compartido de viaje\n",
        "\n",
        "# Titulo y espacios\n",
        "print('\\033[1m Costo compartido de viaje\\033[0m')\n",
        "print('\\033[1m ============================\\033[0m\\n')\n",
        "\n",
        "# Input de datos, numérico float\n",
        "pago_ana = float(input('Ingrese cuanto pago Ana en soles: '))\n",
        "pago_luis = float(input('Ingrese cuanto pago Luis en soles: '))\n",
        "pago_carla = float(input('Ingrese cuanto pago Carla en soles: '))\n",
        "\n",
        "# Cálculo de total de aportes y aportes iguales\n",
        "total = pago_ana + pago_luis + pago_carla\n",
        "aporte_iguales = total / 3\n",
        "\n",
        "\n",
        "# Impresión de resultados\n",
        "print('\\n\\033[1m ---------------------------------\\033[0m\\n')\n",
        "if pago_ana < aporte_iguales:\n",
        "  print(f\"Ana debe aportar {aporte_iguales - pago_ana} soles para que los pagos sean igualitario\")\n",
        "else:\n",
        "  print(f\"Ana ya no debe aportar, los otros integrantes debe reintegrale {pago_ana - aporte_iguales} soles\")\n",
        "if pago_luis < aporte_iguales:\n",
        "  print(f\"Luis debe aportar {aporte_iguales - pago_luis} soles para que los pagos sean igualitarios\")\n",
        "else:\n",
        "  print(f\"Luis ya no debe aportar, los otros integrantes debe reintegrale {pago_luis - aporte_iguales} soles\")\n",
        "if pago_carla < aporte_iguales:\n",
        "  print(f\"Carla debe aportar {aporte_iguales - pago_carla} soles para que los pagos sean igualitarios\")\n",
        "else:\n",
        "  print(f\"Carla ya no debe aportar, los otros integrantes debe reintegrale {pago_carla - aporte_iguales} soles\")\n",
        "\n",
        "\n",
        "## FIN DE CÓDIGO"
      ],
      "metadata": {
        "id": "SGjH-m_mrom9",
        "colab": {
          "base_uri": "https://localhost:8080/"
        },
        "outputId": "240660b2-7f5a-45e3-dabd-b1a3ce9e6fae"
      },
      "execution_count": 17,
      "outputs": [
        {
          "output_type": "stream",
          "name": "stdout",
          "text": [
            "Ingrese cuanto pago Ana en soles: 250\n",
            "Ingrese cuanto pago Luis en soles: 360\n",
            "Ingrese cuanto pago Carla en soles: 500\n",
            "Ana debe aportar 120.0 soles para que los pagos sean igualitario\n",
            "Luis debe aportar 10.0 soles para que los pagos sean igualitario\n",
            "Ana ya no debe aportar, los otros integrantes debe reintegrale 130.0 soles\n"
          ]
        }
      ]
    },
    {
      "cell_type": "markdown",
      "source": [
        "**Ejercicio 6: Tiempo total de estudio**\n",
        "\n",
        "Solicita al usuario cuántas horas estudió en 4 materias distintas.\n",
        "\n",
        "Muestra el total de horas de estudio en la semana y el promedio diario (considerando 7 días).\n"
      ],
      "metadata": {
        "id": "skhBiCaCro5l"
      }
    },
    {
      "cell_type": "code",
      "source": [
        "## INICIO DE CÓDIGO\n",
        "## Tiempo total de estudio\n",
        "\n",
        "# Titulo y espacios\n",
        "print('\\033[1m Tiempo total de estudio\\033[0m')\n",
        "print('\\033[1m ============================\\033[0m\\n')\n",
        "\n",
        "# Input de datos, numérico float\n",
        "hmateria_1 = float(input('Ingrese las horas de estudio de la materia 1: '))\n",
        "hmateria_2 = float(input('Ingrese las horas de estudio de la materia 2: '))\n",
        "hmateria_3 = float(input('Ingrese las horas de estudio de la materia 3: '))\n",
        "hmateria_4 = float(input('Ingrese las horas de estudio de la materia 4: '))\n",
        "\n",
        "# Cálculo de total de horas y la horas promedio\n",
        "htotal = round((hmateria_1 + hmateria_2 + hmateria_3 + hmateria_4),2)\n",
        "hpromedio = round(htotal / 7,2)\n",
        "\n",
        "# Impresión de resultados\n",
        "print('\\n\\033[1m ---------------------------------\\033[0m\\n')\n",
        "print(f\"El total de horas de estudio en la semana es {htotal} h  \\nEl promedio pos dia es {hpromedio} h\")\n",
        "\n",
        "\n",
        "## FIN DE CÓDIGO"
      ],
      "metadata": {
        "id": "HnFuV1RPrqXQ",
        "colab": {
          "base_uri": "https://localhost:8080/"
        },
        "outputId": "e913fb2c-5216-4226-a63f-625400b684c3"
      },
      "execution_count": 20,
      "outputs": [
        {
          "output_type": "stream",
          "name": "stdout",
          "text": [
            "Ingrese las horas de estudio de la materia 1: 15\n",
            "Ingrese las horas de estudio de la materia 2: 5\n",
            "Ingrese las horas de estudio de la materia 3: 12\n",
            "Ingrese las horas de estudio de la materia 4: 8\n",
            "El total de horas de estudio en la semana es 40.0 h  \n",
            "El promedio pos dia es 5.71 h\n"
          ]
        }
      ]
    },
    {
      "cell_type": "code",
      "source": [
        "15/7\n"
      ],
      "metadata": {
        "colab": {
          "base_uri": "https://localhost:8080/"
        },
        "id": "5A4S0WzKQPAl",
        "outputId": "c0024a2b-f532-40b5-d1a4-a2a624a02487"
      },
      "execution_count": 18,
      "outputs": [
        {
          "output_type": "execute_result",
          "data": {
            "text/plain": [
              "2.142857142857143"
            ]
          },
          "metadata": {},
          "execution_count": 18
        }
      ]
    },
    {
      "cell_type": "markdown",
      "source": [
        "**Ejercicio 7: Nombre codificado (nivel string)**\n",
        "\n",
        "Pide al usuario su nombre completo y muestra:\n",
        "\n",
        "* La cantidad de caracteres (con len())\n",
        "* Su nombre todo en mayúsculas (.upper())\n",
        "* Su nombre todo en minúsculas (.lower())\n"
      ],
      "metadata": {
        "id": "rNjtOXKWrqs5"
      }
    },
    {
      "cell_type": "code",
      "source": [
        "## INICIO DE CÓDIGO\n",
        "## Nombre codificado (nivel string)\n",
        "\n",
        "# Titulo y espacios\n",
        "print('\\033[1m Nombre codificado (nivel string)\\033[0m')\n",
        "print('\\033[1m ============================\\033[0m\\n')\n",
        "\n",
        "# Input de datos, Texto str\n",
        "nombre = str(input('Ingrese su nombre completo: '))\n",
        "\n",
        "# Quitar los espacion vacios a la cadena de texto\n",
        "nombre_sin = nombre.replace(\" \",\"\")\n",
        "\n",
        "# Impresión de resultados\n",
        "print('\\n\\033[1m ---------------------------------\\033[0m\\n')\n",
        "print(f\"La cantidad de caracteres de su nombre {len(nombre_sin)}\")\n",
        "print(f\"Su nombre en mayuscula {nombre.upper().strip()}\")\n",
        "print(f\"Su nombre en minuscula {nombre.lower().strip()}\")\n",
        "\n",
        "\n",
        "## FIN DE CÓDIGO"
      ],
      "metadata": {
        "id": "GnGm74GXrsL0",
        "colab": {
          "base_uri": "https://localhost:8080/"
        },
        "outputId": "45aaa8b0-99bf-4206-c402-58cac76f38a9"
      },
      "execution_count": 50,
      "outputs": [
        {
          "output_type": "stream",
          "name": "stdout",
          "text": [
            "Ingrese su nombre completo:    HENRY GODIÑO CALISAYA\n",
            "La cantidad de caracteres de su nombre 19\n",
            "Su nombre en mayuscula HENRY GODIÑO CALISAYA\n",
            "Su nombre en minuscula henry godiño calisaya\n"
          ]
        }
      ]
    },
    {
      "cell_type": "code",
      "source": [
        "\n",
        "print(len(\"      Henry        Godino\".replace(\" \",\"\")))"
      ],
      "metadata": {
        "colab": {
          "base_uri": "https://localhost:8080/"
        },
        "id": "XAkKzabJTO6f",
        "outputId": "991cb29e-f2e4-4d61-e4fb-f0d197f636d5"
      },
      "execution_count": 38,
      "outputs": [
        {
          "output_type": "stream",
          "name": "stdout",
          "text": [
            "11\n"
          ]
        }
      ]
    },
    {
      "cell_type": "markdown",
      "source": [
        "**Ejercicio 8: Frase repetida**\n",
        "\n",
        "Pide una frase y un número n, y muestra la frase repetida n veces, cada una en una línea.\n",
        "\n",
        "* Pista: print(frase * n)  # y/o con '\\n'"
      ],
      "metadata": {
        "id": "lrhPyjmWrse2"
      }
    },
    {
      "cell_type": "code",
      "source": [
        "## INICIO DE CÓDIGO\n",
        "## Frase repetida\n",
        "\n",
        "# Titulo y espacios\n",
        "print('\\033[1m       Frase repetida\\033[0m')\n",
        "print('\\033[1m ============================\\033[0m\\n')\n",
        "\n",
        "# Input de datos, Texto str\n",
        "frase = str(input('Ingrese una frase: '))\n",
        "\n",
        "# Input de datos, numero integer\n",
        "n = int(input('Ingrese un numero entero: '))\n",
        "\n",
        "# Impresión de resultados\n",
        "print('\\n\\033[1m ---------------------------------\\033[0m\\n')\n",
        "print((frase + \"\\n\") * n)\n",
        "\n",
        "\n",
        "\n",
        "## FIN DE CÓDIGO"
      ],
      "metadata": {
        "id": "Vzef3t_Lru0p",
        "colab": {
          "base_uri": "https://localhost:8080/"
        },
        "outputId": "1b390d6b-ed3f-48a9-ea2d-ac83b8236d48"
      },
      "execution_count": 63,
      "outputs": [
        {
          "output_type": "stream",
          "name": "stdout",
          "text": [
            "\u001b[1m       Frase repetida\u001b[0m\n",
            "\u001b[1m ============================\u001b[0m\n",
            "\n",
            "Ingrese una frase: Nuevo 2\n",
            "Ingrese un numero entero: 15\n",
            "\n",
            "\u001b[1m ---------------------------------\u001b[0m\n",
            "\n",
            "Nuevo 2\n",
            "Nuevo 2\n",
            "Nuevo 2\n",
            "Nuevo 2\n",
            "Nuevo 2\n",
            "Nuevo 2\n",
            "Nuevo 2\n",
            "Nuevo 2\n",
            "Nuevo 2\n",
            "Nuevo 2\n",
            "Nuevo 2\n",
            "Nuevo 2\n",
            "Nuevo 2\n",
            "Nuevo 2\n",
            "Nuevo 2\n",
            "\n"
          ]
        }
      ]
    },
    {
      "cell_type": "markdown",
      "source": [
        "**Ejercicio 9: División de cuentas**\n",
        "\n",
        "Un grupo de amigos pide una cuenta por S/ 250.\n",
        "Pide al usuario cuántas personas están en el grupo y muestra cuánto debe pagar cada uno.\n",
        "\n",
        "Asegúrate de redondear el resultado a 2 decimales.\n",
        "\n",
        "* Pista: Usa la funcion round()"
      ],
      "metadata": {
        "id": "5NpbbGR_rvNH"
      }
    },
    {
      "cell_type": "code",
      "source": [
        "## INICIO DE CÓDIGO\n",
        "## División de cuentas\n",
        "\n",
        "# Titulo y espacios\n",
        "print('\\033[1m      División de cuentas\\033[0m')\n",
        "print('\\033[1m ============================\\033[0m\\n')\n",
        "\n",
        "# Input de datos, numero integer\n",
        "personas = int(input('Cuantas personas son en el grupo: '))\n",
        "\n",
        "# Definición de variable cuenta\n",
        "cuenta = 250\n",
        "\n",
        "# Cálculo de la cuenta promediada entre las persona del grupo\n",
        "cuenta_persona = round(cuenta / int(personas),2)\n",
        "\n",
        "# Impresión de resultados\n",
        "print('\\n\\033[1m ---------------------------------------------\\033[0m\\n')\n",
        "print(f\"Cada persona del grupo debe pagar S/ {cuenta_persona} soles\")\n",
        "\n",
        "## FIN DE CÓDIGO"
      ],
      "metadata": {
        "id": "uMxuVCUVrvj6",
        "colab": {
          "base_uri": "https://localhost:8080/"
        },
        "outputId": "aa256ae2-db6a-45ed-b505-f18e979a6dff"
      },
      "execution_count": 52,
      "outputs": [
        {
          "output_type": "stream",
          "name": "stdout",
          "text": [
            "Cuantas personas son en el grupo: 5\n",
            "Cada persona del grupo debe pagar S/ 50.0 soles\n"
          ]
        }
      ]
    },
    {
      "cell_type": "markdown",
      "source": [
        "**Ejercicio 10: Calendario de clases**\n",
        "\n",
        "Pide cuántas horas se estudia en promedio por día, y cuántos días tiene el mes.\n",
        "\n",
        "Calcula cuántas horas de estudio habrá ese mes."
      ],
      "metadata": {
        "id": "p3PYp0l4pxuI"
      }
    },
    {
      "cell_type": "code",
      "source": [
        "## INICIO DE CÓDIGO\n",
        "## Calendario de clases\n",
        "\n",
        "# Titulo y espacios\n",
        "print('\\033[1m     Calendario de clases\\033[0m')\n",
        "print('\\033[1m ============================\\033[0m\\n')\n",
        "\n",
        "# Input de datos, numero de horas float y dias del mes integer\n",
        "horas_prom = float(input('Cuantas horas estudias en promedio por día: '))\n",
        "dias_mes = int(input('Cuantas dias tiene el mes: '))\n",
        "\n",
        "# Cálculo las horas estudio que habra en el mes.\n",
        "horas_mes = round(horas_prom * dias_mes,2)\n",
        "\n",
        "# Impresión de resultados\n",
        "print('\\n\\033[1m ---------------------------------------------\\033[0m\\n')\n",
        "print(f\"Se estudiara {horas_mes} horas durante el mes\")\n",
        "\n",
        "## FIN DE CÓDIGO"
      ],
      "metadata": {
        "id": "y1bXFffhrxk2",
        "colab": {
          "base_uri": "https://localhost:8080/"
        },
        "outputId": "45b07273-a29e-4af9-c0fc-9c4d8bdb8afb"
      },
      "execution_count": 64,
      "outputs": [
        {
          "output_type": "stream",
          "name": "stdout",
          "text": [
            "\u001b[1m     Calendario de clases\u001b[0m\n",
            "\u001b[1m ============================\u001b[0m\n",
            "\n",
            "Cuantas horas estudias en promedio por día: 5\n",
            "Cuantas dias tiene el mes: 30\n",
            "\n",
            "\u001b[1m ---------------------------------------------\u001b[0m\n",
            "\n",
            "Se estudiara 150.0 horas durante el mes\n"
          ]
        }
      ]
    },
    {
      "cell_type": "markdown",
      "source": [
        "---\n",
        "\n",
        "# Gracias por completar este laboratorio!\n",
        "\n",
        "---\n"
      ],
      "metadata": {
        "id": "8_ZocYoOrx3Z"
      }
    }
  ]
}